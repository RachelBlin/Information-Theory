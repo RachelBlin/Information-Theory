{
 "cells": [
  {
   "cell_type": "markdown",
   "metadata": {},
   "source": [
    "*TP réalisé par Rachel Blin dans le cadre du cours d'Alexandrina Rogozan*"
   ]
  },
  {
   "cell_type": "markdown",
   "metadata": {},
   "source": [
    "# Codage de Shannon-Fano\n",
    "\n",
    "L'objectif de ce TP est de réaliser le codage de Shannon-Fano pour le message suivant :  \n",
    "  \n",
    "\"*Il n'existe que deux choses infinies, l'univers et la bêtise humaine... mais pour l'univers, je n'ai pas de certitude absolue.*\" (Albert Einstein)\n",
    "\n",
    "## Simplification de la séquence\n",
    "\n",
    "Afin de rendre la séquence plus simple à encoder, nous allons tout d'abord transformer la phrase de telle sorte à ce qu'elle ne contienne que des caractères présents dans les 26 lettres de l'alphabet en minuscule, sans accents, ainsi que les espaces.\n",
    "\n",
    "La message à encoder devient donc :  \n",
    "  \n",
    "\"*il nexiste que deux choses infinies lunivers et la betise humaine mais pour lunivers je nai pas de certitude absolue*\"\n",
    "\n",
    "## Classification des symboles de la séquence par ordre d'occurences croissants\n",
    "\n",
    "La première étape du codage de Shannon-Fano est de classer les symboles de la séquence à encoder par nombre d'occurences croissants.  \n",
    "  \n",
    "1) Dans un premier temps, répertoriez tous les caractères présents dans le message."
   ]
  },
  {
   "cell_type": "code",
   "execution_count": 6,
   "metadata": {},
   "outputs": [],
   "source": [
    "m = \"il nexiste que deux choses infinies lunivers et la betise humaine mais pour lunivers je nai pas de certitude absolue\"\n",
    "\n",
    "def unique(message):\n",
    "    \"\"\" Helper function that return a list of the unique characters in the input message.\n",
    "    \n",
    "    # Argument:\n",
    "        - message: The input string to be processed.\n",
    "    \n",
    "    # Return:\n",
    "        A list containing all the unique characters in the input string.\n",
    "    \"\"\""
   ]
  },
  {
   "cell_type": "markdown",
   "metadata": {},
   "source": [
    "2) Calculez maintenant le nombre d'occurences de chacun de ces caractères dans le message et rangez ces occurences par nombre croissant."
   ]
  },
  {
   "cell_type": "code",
   "execution_count": 7,
   "metadata": {},
   "outputs": [],
   "source": [
    "import operator\n",
    "\n",
    "def occurencies(message):\n",
    "    \"\"\" Function that counts the number of occurences in a message and sort the occurencies by increasing order.\n",
    "    \n",
    "    # Argument:\n",
    "        - message: The input string to be processed.\n",
    "    \n",
    "    # Return:\n",
    "        A list of tuples containing each character and its number of occurences in the message.\n",
    "    \"\"\""
   ]
  },
  {
   "cell_type": "markdown",
   "metadata": {},
   "source": [
    "## Séparation des symboles en deux sous-groupes\n",
    "\n",
    "Une fois les symboles classés par ordre d'occurence croissante, il est nécessaire de créer un graphe permettant de séparer les symboles en deux sous-groupes de façon à ce que le nombre total d'occurences soit sensiblement égal entre les deux sous-groupes. Il faut répéter l'opération de telle sorte à ce qu'à la fin du graphe, il ne reste plus q'un seul caractère dans chacune des branches. Ensuite, il faut attribuer au sous-groupe de gauche la valeur 0 et la valeur 1 au sous-groupe de droite.\n",
    "\n",
    "__Exemple__ :  \n",
    "Pour une séquence contenant les caractères (a, b, c, d, e) d'occurences respectives (1, 1, 2, 2, 3) on obtient le graphe suivant : \n",
    "\n",
    "![graphe](TP_Shannon_Fano.png)\n",
    "\n",
    "Ce qui donne donc le codage de Shannon-Fano suivant : \n",
    "\n",
    "| Caractère | Nombre d'occurences | Code Shannon-Fano |\n",
    "|-----------|---------------------|-------------------|\n",
    "| a         | 1                   | 000               |\n",
    "| b         | 1                   | 001               |\n",
    "| c         | 2                   | 01                |\n",
    "| d         | 2                   | 10                |\n",
    "| e         | 3                   | 11                |\n",
    "\n",
    "3) Créez le graphe de séparation des symboles."
   ]
  },
  {
   "cell_type": "code",
   "execution_count": 8,
   "metadata": {},
   "outputs": [],
   "source": [
    "# Tree structure to hold the encoding data\n",
    "class Tree(object):\n",
    "    def __init__(self):\n",
    "        self.g = None\n",
    "        self.d = None\n",
    "        self.data = None\n",
    "\n",
    "def split_occurencies(sorted_occurencies):\n",
    "    \"\"\" Split the sorted occurencies in half by the number of occurencies\n",
    "    \n",
    "    # Argument:\n",
    "        - sorted_occurencies: List of tuple of the char sorted by the number of occurencies\n",
    "\n",
    "    # Return:\n",
    "        - Two lists of occurencies\n",
    "    \"\"\"\n",
    "\n",
    "def Shannon_Fano(occurencies):\n",
    "    \"\"\" Recursive function that encodes the coding tree for shannon fano coding.\n",
    "    \n",
    "    # Argument:\n",
    "        - occurencies: The list of tuples containing the sorted occurencies\n",
    "\n",
    "    # Return:\n",
    "        - The coding tree corresponding the the given list of occurencies.\n",
    "    \"\"\"\n",
    "\n",
    "def get_dict_codage(node):\n",
    "    \"\"\" Take a coding tree and return the associated coding dictionnary.\n",
    "    \n",
    "    # Argument:\n",
    "        - node: The root node of the coding tree.\n",
    "\n",
    "    # Return:\n",
    "        - Dictionnary: The coding dictionnary.\n",
    "    \"\"\"\n",
    "    "
   ]
  },
  {
   "cell_type": "markdown",
   "metadata": {},
   "source": [
    "4) Effectuez maintenant le codage de Shannon-Fano."
   ]
  },
  {
   "cell_type": "code",
   "execution_count": 9,
   "metadata": {},
   "outputs": [],
   "source": [
    "def encode_message(m, dict_codage_Shannon_Fano):\n",
    "    \"\"\" Helper function to encode a given message.\n",
    "    \n",
    "    # Arguments:\n",
    "        - m: String, the message to encode\n",
    "        - dict_coding_Shannon_Fano: Dictionnary containing the coding mapping\n",
    "\n",
    "    # Return:\n",
    "        - String, the coded message.\n",
    "    \"\"\""
   ]
  },
  {
   "cell_type": "markdown",
   "metadata": {},
   "source": [
    "## Visualisation de l'encodage \n",
    "\n",
    "En se basant sur le codage binaire des caractères de la table ASCII, le message de départ est le suivant :  \n",
    "\"0100100101001100001000000100111001000101010110000100100101010011010101000100010100100000010100010101010101000101001000000100010001000101010101010101100000100000010000110100100001001111010100110100010101010011001000000100100101001110010001100100100101001110010010010100010101010011001000000100110001010101010011100100100101010110010001010101001001010011001000000100010101010100001000000100110001000001001000000100001001000101010101000100100101010011010001010010000001001000010101010100110101000001010010010100111001000101001000000100110101000001010010010101001100100000010100000100111101010101010100100010000001001100010101010100111001001001010101100100010101010010010100110010000001001010010001010010000001001110010000010100100100100000010100000100000101010011001000000100010001000101001000000100001101000101010100100101010001001001010101000101010101000100010001010010000001000001010000100101001101001111010011000101010101000101\"\n",
    "\n",
    "5) Que peut-on dire du rôle du codage de Shannon-Fano sur le message en entrée?"
   ]
  },
  {
   "cell_type": "code",
   "execution_count": 10,
   "metadata": {},
   "outputs": [],
   "source": [
    "binaire = \"0100100101001100001000000100111001000101010110000100100101010011010101000100010100100000010100010101010101000101001000000100010001000101010101010101100000100000010000110100100001001111010100110100010101010011001000000100100101001110010001100100100101001110010010010100010101010011001000000100110001010101010011100100100101010110010001010101001001010011001000000100010101010100001000000100110001000001001000000100001001000101010101000100100101010011010001010010000001001000010101010100110101000001010010010100111001000101001000000100110101000001010010010101001100100000010100000100111101010101010100100010000001001100010101010100111001001001010101100100010101010010010100110010000001001010010001010010000001001110010000010100100100100000010100000100000101010011001000000100010001000101001000000100001101000101010100100101010001001001010101000101010101000100010001010010000001000001010000100101001101001111010011000101010101000101\""
   ]
  }
 ],
 "metadata": {
  "author_info": {
   "class": "Information Theory",
   "information": "Suject, code and corrections are made by Rachel Blin, the class responsible is Alexandrina Rogozan",
   "name": "Rachel Blin"
  },
  "kernelspec": {
   "display_name": "Python 3",
   "language": "python",
   "name": "python3"
  },
  "language_info": {
   "codemirror_mode": {
    "name": "ipython",
    "version": 3
   },
   "file_extension": ".py",
   "mimetype": "text/x-python",
   "name": "python",
   "nbconvert_exporter": "python",
   "pygments_lexer": "ipython3",
   "version": "3.7.3"
  }
 },
 "nbformat": 4,
 "nbformat_minor": 2
}
