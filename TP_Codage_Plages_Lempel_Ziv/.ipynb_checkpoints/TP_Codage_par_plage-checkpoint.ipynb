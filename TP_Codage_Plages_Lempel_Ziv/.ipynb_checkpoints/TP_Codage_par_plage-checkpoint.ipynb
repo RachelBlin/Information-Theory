{
 "cells": [
  {
   "cell_type": "markdown",
   "metadata": {},
   "source": [
    "*TP réalisé par Rachel Blin dans le cadre du cours d'Alexandrina Rogozan*"
   ]
  },
  {
   "cell_type": "markdown",
   "metadata": {},
   "source": [
    "# Codage par plage\n",
    "\n",
    "L'objectif de ce TP est de réaliser le codage par plage de la séquence suivante :    \n",
    "\n",
    "\"*00000110000011101110010111000001101011100001101011*\"\n",
    "\n",
    "## Rassemblement des paires de signes\n",
    "\n",
    "Dans un premier temps, on va rassembler les paires de signes présentes dans la séquence de la forme (plage, valeur) où plage représente le nombre de signes identiques successifs et valeur représente le nombre d'occurences.    \n",
    "\n",
    "__Exemple__ :  \n",
    "Pour le message Pour le message \"babeecceddae\" on obtient les paires de signes suivantes :  \n",
    "\n",
    "(b,1), (a,1), (b,1), (e,2), (c,2), (e,1), (d,2), (a,1), (e,1).    \n",
    "\n",
    "1) Transformez la séquence à coder en paires de signes."
   ]
  },
  {
   "cell_type": "code",
   "execution_count": 1,
   "metadata": {},
   "outputs": [],
   "source": [
    "s = \"00000110000011101110010111000001101011100001101011\"\n",
    "\n",
    "def sequence_to_pair_of_sign(s):\n",
    "    \"\"\"\n",
    "    A function that transforms a sequence into pairs of signs\n",
    "    \n",
    "    # Argument:\n",
    "        - s: The sequence to be transformed\n",
    "        \n",
    "    # Return:\n",
    "        A list of tuples containing a symbol and the lenght of its subsequence for the whole sequence\n",
    "    \"\"\""
   ]
  },
  {
   "cell_type": "markdown",
   "metadata": {},
   "source": [
    "## Encodage des paires de signes\n",
    "\n",
    "Maintenant que la séquence a été transformée en paires de signes, chaque paire de signe peut être considérée comme un caractère à part entière. Ces caractères seront encodés avec un des algorithmes que nous avons vu dans les TP précédents au choix. Il est conseillé d'utiliser un algorithme comprenant des mots-codes variables comme l'algorithme de Huffman.\n",
    "\n",
    "__Exemple__ :  \n",
    "Pour le message Pour le message \"babeecceddae\" on obtient les paires de signes suivantes :  \n",
    "\n",
    "(b,1), (a,1), (b,1), (e,2), (c,2), (e,1), (d,2), (a,1), (e,1)    \n",
    "\n",
    "Ces paires de mots codes ont le nombre d'occurences suivantes :    \n",
    "\n",
    "| Caractère | Nombre d'occurences |\n",
    "|-----------|---------------------|\n",
    "| (b,1)         | 2                   |\n",
    "| (a,1)         | 2                   |\n",
    "| (e,2)         | 1                   |\n",
    "| (c,2)         | 1                   |\n",
    "| (e,1)         | 2                   |\n",
    "| (d,2)         | 1                   |\n",
    "\n",
    "2) Encodez la séquence de paires de signes ainsi obtenue selon le codage de Huffman."
   ]
  },
  {
   "cell_type": "code",
   "execution_count": 3,
   "metadata": {},
   "outputs": [],
   "source": [
    "import operator\n",
    "import collections\n",
    "\n",
    "def unique(message):\n",
    "    \"\"\" Returs all the uninque tuples in the sequence transformed into a list of tuples.\n",
    "    \n",
    "    # Argument:\n",
    "        - message: The sequence of tuples (symbol, lenght).\n",
    "        \n",
    "    # Returns:\n",
    "        - A list containing all the unique tuples of the sequence.\n",
    "    \"\"\"\n",
    "\n",
    "def occurencies(message):\n",
    "    \"\"\" Counts the number of occurencies of the tuples in the sequence.\n",
    "    \n",
    "    # Argument:\n",
    "        - message: The sequence transformed into a list of tuples.\n",
    "    \n",
    "    # Returns:\n",
    "        - A dict containing the tuples (symbol,length) as keys and the number of occurencies of each tuple.\n",
    "    \"\"\"\n",
    "\n",
    "def order_by_values(dictionary):\n",
    "    \"\"\" Helper function to order a dictionnary by its values.\n",
    "    \n",
    "    # Argument:\n",
    "        - dictionary: The dictionary to order.\n",
    "        \n",
    "    # Returns:\n",
    "        - An ordered list of tuples containing as first value the character and as second its number of occurencies.\n",
    "    \n",
    "    \"\"\"\n",
    "\n",
    "# Data simplification\n",
    "\n",
    "def attributing_symbol_pair(sorted_occurences):\n",
    "    \"\"\"\n",
    "    A function attributing a symbol to each tuple contained in the sequence to be encoded.\n",
    "    \n",
    "    # Arguments:\n",
    "        - sorted_occurences: A list of tuples containing the pair symbol, lenght and its number of occurences in the sequenced, in increasing number.\n",
    "        \n",
    "    # Return: \n",
    "        The new ordered list of symbols corresponding to unique tuples and its dictionary of conversion.\n",
    "    \"\"\"\n",
    "    \n",
    "# Séparation des symboles en sous-groupes \n",
    "\n",
    "# Creation of the Tree type\n",
    "\n",
    "class Tree(object):\n",
    "    \"\"\" Tree object.\"\"\"\n",
    "    def __init__(self, g=None, d=None, data=None):\n",
    "        \"\"\" Init function.\n",
    "        \n",
    "        # Arguments:\n",
    "            - g: The left node of the tree.\n",
    "            - d: The right node of the tree.\n",
    "            - data: The data to be held in the node.\n",
    "        \"\"\"\n",
    "        self.g = g\n",
    "        self.d = d\n",
    "        self.data = data\n",
    "    \n",
    "def update_list_node(list_node, new_node):\n",
    "    \"\"\" Adds a node in the correct place in an ordered list of nodes.\n",
    "    \n",
    "    # Arguments:\n",
    "        - list_node: The list of nodes we want to add the node to.\n",
    "        - new_node: The node to be added.\n",
    "    \n",
    "    # Returns:\n",
    "        - The list with the added node.\n",
    "    \"\"\"\n",
    "    \n",
    "def Huffman(sorted_occurences):\n",
    "    \"\"\" Creates the Huffman tree.\n",
    "    \n",
    "    # Argument:\n",
    "        - sorted_occurences: The sorted occurencies of the message we wish to encode.\n",
    "    \n",
    "    # Returns:\n",
    "        - The root of the Huffman tree.\n",
    "    \"\"\"\n",
    "\n",
    "def get_dict_coding(graph):\n",
    "    \"\"\" Creates the coding dictionnary.\n",
    "    \n",
    "    # Argument:\n",
    "        - graph: The root of the Huffman tree.\n",
    "    \n",
    "    # Returns:\n",
    "        - A coding dictionary.\n",
    "    \"\"\"\n",
    "\n",
    "def conversion_dict_Huff(dict_Huffman, conversion_dict):\n",
    "    \"\"\"\n",
    "    A function to convert the Huffman dictionary so it can use the real tuples symbol, length\n",
    "    \n",
    "    # Arguments:\n",
    "        - dict_Huffman: The non converted Huffman dictionary \n",
    "        - conversion_dict: The dictionary of conversion\n",
    "        \n",
    "    # Return:\n",
    "        A converted version of the Huffman dictionary so it can directly encode the sequence of tuples.\n",
    "    \"\"\"\n",
    "\n",
    "# Encoding Huffman message\n",
    "\n",
    "def encode_message(m, dict_Huffman):\n",
    "    \"\"\" Encodes a given message.\n",
    "    \n",
    "    # Arguments:\n",
    "        - m: The message to encode.\n",
    "        - dict_Huffman: The coding dictionary.\n",
    "    \n",
    "    # Returns:\n",
    "        - The encoded message.\n",
    "    \"\"\""
   ]
  },
  {
   "cell_type": "markdown",
   "metadata": {},
   "source": [
    "3) Calculer le taux de compression du message et conclure quant à la performance."
   ]
  },
  {
   "cell_type": "code",
   "execution_count": 4,
   "metadata": {},
   "outputs": [],
   "source": [
    "def compression_rate(len_source, len_coding):\n",
    "    \"\"\"\n",
    "    A function to compute the compression rate of the message\n",
    "    \n",
    "    # Arguments:\n",
    "        - len_source: The length of the source message\n",
    "        - len_coding: The length of the obtained message\n",
    "    \"\"\""
   ]
  },
  {
   "cell_type": "markdown",
   "metadata": {},
   "source": [
    "On en déduit donc que dans notre cas, le codage par plage donne un message plus long que celui en entrée. En effet le codage par plages est efficace seulement si les plages sont suffisemment grandes. \n"
   ]
  },
  {
   "cell_type": "markdown",
   "metadata": {},
   "source": [
    "Soit la séquence :     \n",
    "\n",
    "\"111111111111111000000111111000000000000000111111111111111\"\n",
    "\n",
    "4) Coder cette séquence en utilisant le codage par plage et conclure."
   ]
  },
  {
   "cell_type": "code",
   "execution_count": 5,
   "metadata": {
    "scrolled": false
   },
   "outputs": [],
   "source": [
    "s = \"111111111111111000000111111000000000000000111111111111111\""
   ]
  }
 ],
 "metadata": {
  "author_info": {
   "class": "Information Theory",
   "information": "Suject, code and corrections are made by Rachel Blin, the class responsible is Alexandrina Rogozan",
   "name": "Rachel Blin"
  },
  "kernelspec": {
   "display_name": "Python 3",
   "language": "python",
   "name": "python3"
  },
  "language_info": {
   "codemirror_mode": {
    "name": "ipython",
    "version": 3
   },
   "file_extension": ".py",
   "mimetype": "text/x-python",
   "name": "python",
   "nbconvert_exporter": "python",
   "pygments_lexer": "ipython3",
   "version": "3.7.3"
  }
 },
 "nbformat": 4,
 "nbformat_minor": 2
}
