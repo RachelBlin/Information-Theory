{
 "cells": [
  {
   "cell_type": "markdown",
   "metadata": {},
   "source": [
    "*TP réalisé par Rachel Blin dans le cadre du cours d'Alexandrina Rogozan*"
   ]
  },
  {
   "cell_type": "markdown",
   "metadata": {},
   "source": [
    "# Codage cyclique\n",
    "\n",
    "Pour ce TP, on considère un code correcteur d'erreur cyclique par blocs ayant ayant des mots-code de longueur 7 bits dans lesquels on retrouve m=3 bits de parité. Les n=7 bits constituant un mot-code sont considérés comme coefficients d'un polynôme de degré n-1 soit :  \n",
    "\n",
    "c(x) = d0 + d1x + d2x² + ... + d6x^6    \n",
    "\n",
    "Le polynôme générateur utilisé pour obtenir un mot-code est le suivant : \n",
    "\n",
    "g(x) = x^3 + x + 1\n",
    "\n",
    "Afin de retrouver tous les mots-code constituant ce code cyclique il suffit de multiplier les k bits d'info avec k = n-m par le polynôme générateur.\n",
    "\n",
    "## Ecriture des mots-code \n",
    "\n",
    "1) Dans un premier temps, déterminer toutes les valeurs possibles des bits d'info"
   ]
  },
  {
   "cell_type": "code",
   "execution_count": 1,
   "metadata": {},
   "outputs": [],
   "source": [
    "import numpy as np\n",
    "\n",
    "n = 7\n",
    "m = 3\n",
    "\n",
    "def values_bits_info(m, n):\n",
    "    \"\"\" Function that returns all the possibles values for the information bits\n",
    "    \n",
    "    # Arguments:\n",
    "        - m: The number of parity bits\n",
    "        - n: The length of the codeword\n",
    "    \n",
    "    # Returns:\n",
    "        A list of all the possible combinations of the information bits    \n",
    "    \"\"\""
   ]
  },
  {
   "cell_type": "markdown",
   "metadata": {},
   "source": [
    "2) Ecrivez maintenant tous les mots-code de ce code cyclique."
   ]
  },
  {
   "cell_type": "code",
   "execution_count": 2,
   "metadata": {},
   "outputs": [],
   "source": [
    "g = np.array([1, 0, 1, 1])\n",
    "\n",
    "def polynomial_multiplication(x, y):\n",
    "    \"\"\" A function to multiply two binary polynoms\n",
    "    \n",
    "    # Arguments:\n",
    "        - x: A binary polynom\n",
    "        - y: A binary polynom\n",
    "        \n",
    "    # Returns:\n",
    "        A binary polynom\n",
    "    \"\"\"\n",
    "\n",
    "def cyclic_codeword(bits_info, g):\n",
    "    \"\"\" A function that computes all the possible cyclic codewords\n",
    "    \n",
    "    # Arguments:\n",
    "        - bits_info: A list containing all the possibles information bits combination\n",
    "        - g: The generator polynom\n",
    "    \n",
    "    \"\"\""
   ]
  },
  {
   "cell_type": "markdown",
   "metadata": {},
   "source": [
    "On dit qu'un code est cyclique parce que les mots-code de celui-ci possèdent un motif récurrent (sans compter les mots-code dont tous les bits sont à 0 ou à 1) et qui peut être inversé. \n",
    "\n",
    "3) Quel est le motif de ce code cyclique?"
   ]
  },
  {
   "cell_type": "markdown",
   "metadata": {},
   "source": [
    "## Calcul de la distance minimale de ce code\n",
    "\n",
    "Pour rappel, la distance de Hamming entre deux séquences de même longueur est le nombre de caractères qui différent entre ces deux séquences.\n",
    "\n",
    "__Exemple__ :  \n",
    "La distance de Hamming entre \"*1000101*\" et \"*1100101*\" est de 1.  \n",
    "La distance de Hamming entre \"*1000101*\" et \"*0000111*\" est de 2.  \n",
    "\n",
    "4) Calculez la distance minimale de Hamming pour ce code. Pour celà, il est plus judicieux de calculer la distance de Hamming entre le mot-code dont tous les bits sont à zéros et les autres mots_codes et de retenir la distance minimale."
   ]
  },
  {
   "cell_type": "code",
   "execution_count": 3,
   "metadata": {},
   "outputs": [],
   "source": [
    "def Hamming_distance(codewords):\n",
    "    \"\"\" This function computes the minimal Hamming thistance for the codewords\n",
    "    \n",
    "    # Argument:\n",
    "        - codewords: A list containing all the codewords\n",
    "        \n",
    "    # Returns:\n",
    "        The minimal Hamming distance of these codewords\n",
    "    \"\"\""
   ]
  },
  {
   "cell_type": "markdown",
   "metadata": {},
   "source": [
    "Le nombre maximal d'erreurs corrigibles par ce code est déterminé par le plus grand entier strictement inférieur à la distance minimale de Hamming / 2.  \n",
    "\n",
    "5) calculez le nombre maximal d'erreurs corrigibles par ce code"
   ]
  },
  {
   "cell_type": "code",
   "execution_count": 4,
   "metadata": {},
   "outputs": [],
   "source": [
    "def number_errors(d_Hamming):\n",
    "    \"\"\" A function that computes the number of errors that this cyclic code can correct\n",
    "    \n",
    "    # Argument:\n",
    "        - d_Hamming: The minimal Hamming distance\n",
    "        \n",
    "    # Returns:\n",
    "        The number of errors this code can correct\n",
    "    \"\"\""
   ]
  },
  {
   "cell_type": "markdown",
   "metadata": {},
   "source": [
    "## Calcul des mots-code sous forme systématique \n",
    "\n",
    "Pour rappel, dans notre cas de figure on a m = 3 bits de parité.    \n",
    "\n",
    "Le polynôme des bits de parité (p(x)) est le reste de la division du polynome formé à partir des bits d'information (i(x)) multiplié par x^m par g(x) soit :  \n",
    "p(x) = reste((i(x) * x^m) / g(x))\n",
    "\n",
    "Ces bits de parité permettent d'écrire les mots-code sous forme systématique avec d0, d1 et d2 les coefficients du polynôme des bits de parité p(x) et d3, d4, d5 et d6 les coefficents du polynôme d'information i(x).    \n",
    "\n",
    "6) Ecrivez les mots-code sous forme systématique."
   ]
  },
  {
   "cell_type": "code",
   "execution_count": 5,
   "metadata": {},
   "outputs": [],
   "source": [
    "def polynomial_soustraction(x, y):\n",
    "    \"\"\" A function that computes the binary polynomial soustraction of two polynoms\n",
    "    \n",
    "    # Arguments:\n",
    "        - x: A binary polynom\n",
    "        - y: A binary polynom\n",
    "        \n",
    "    # Returns:\n",
    "        A binary polynom   \n",
    "    \"\"\"\n",
    "\n",
    "def rest_division(x, y):\n",
    "    \"\"\" A function that computes the rest of the binary division\n",
    "    \n",
    "    # Arguments:\n",
    "        - x: A binary polynom\n",
    "        - y: A binary polynom\n",
    "        \n",
    "    # Returns:\n",
    "        A binary polynom\n",
    "    \"\"\"\n",
    "\n",
    "def poly_x_m(m):\n",
    "    \"\"\" A function that creates the polynom x^m\n",
    "    \n",
    "    # Arguments:\n",
    "        - m: The degree of the desired polynom\n",
    "    \n",
    "    # Returns:\n",
    "        A binary polynom\n",
    "    \"\"\"\n",
    "\n",
    "def bits_info_multi_x_m(bits_info, x):\n",
    "    \"\"\" A function that multiplies the polynom corresponding to the information bits with the polynom x^m\n",
    "    \n",
    "    # Arguments:\n",
    "        - bits_info: A list containing all the information bits combinasions\n",
    "        - x: The polynom x^m\n",
    "        \n",
    "    # Returns:\n",
    "        A list containing all the information bits polynoms multiplied by x^m\n",
    "    \"\"\"\n",
    "\n",
    "def compute_parity_bits(bits_info_multi, g):\n",
    "    \"\"\" A function that computes the parity bits of the codewords\n",
    "    \n",
    "    # Arguments:\n",
    "        - bits_info_multi: A list containing all the polynoms corresponding to the information bits multiplied by x^m\n",
    "        - g: The generator polynom\n",
    "        \n",
    "    # Returns:\n",
    "        A list containing all the parity bits corresponding to each codeword\n",
    "    \"\"\"\n",
    "\n",
    "def systematic_form(bits_info, bits_parite, m):\n",
    "    \"\"\" A function that computes the systematic form of the cyclic codewords\n",
    "    \n",
    "    # Arguments:\n",
    "        - bits_info: A list containing all the information bits of the cyclic codewords\n",
    "        - bits_parite: A list contaning all the parity bits of the cyclic codewords\n",
    "        - m: The number of parity bits\n",
    "    \n",
    "    \"\"\""
   ]
  },
  {
   "cell_type": "markdown",
   "metadata": {},
   "source": [
    "## Simulation d'erreurs\n",
    "\n",
    "Dans les questions précédentes, on a calculé le nombre d'erreurs corrigibles par ce code cyclique. Afin de savoir si le message reçu contient une erreur, on calcule le syndrome s(x) qui est le reste du polynôme correspondant à la forme systématique (r(x)) par le polynôme générateur (g(x)), pour résumer :  \n",
    "\n",
    "s(x) = reste(r(x)/g(x))  \n",
    "\n",
    "Si s(x) est égal à 0, cela signifie que le message est reçu sans erreur, en revanche s'il est différent de 0 cela veut dire que le message reçu comporte une erreur.    \n",
    "\n",
    "Pour illustrer cet exemple, on va prendre le la forme systématique du message correspondant à 2, soit \"*0 1 1 0 1 0 0*\". Dans un premier temps on va simuler une erreur sur le bit d0, dans un deuxième temps deux erreurs, une sur le bit d0 et une autre sur le bit d1 et enfin trois erreurs une sur le bit d0, une sur le bit d2 et une sur le bit d3.\n",
    "\n",
    "7) Calculez le syndrome pour le message sans erreurs, puis pour le message avec une seule erreur, pour celui comportant deux erreurs et enfin pour celui comportant 3 erreurs. Que peut-on en conclure?"
   ]
  },
  {
   "cell_type": "code",
   "execution_count": null,
   "metadata": {},
   "outputs": [],
   "source": []
  }
 ],
 "metadata": {
  "author_info": {
   "class": "Information Theory",
   "information": "Suject, code and corrections are made by Rachel Blin, the class responsible is Alexandrina Rogozan",
   "name": "Rachel Blin"
  },
  "kernelspec": {
   "display_name": "Python 3",
   "language": "python",
   "name": "python3"
  },
  "language_info": {
   "codemirror_mode": {
    "name": "ipython",
    "version": 3
   },
   "file_extension": ".py",
   "mimetype": "text/x-python",
   "name": "python",
   "nbconvert_exporter": "python",
   "pygments_lexer": "ipython3",
   "version": "3.7.3"
  }
 },
 "nbformat": 4,
 "nbformat_minor": 2
}
